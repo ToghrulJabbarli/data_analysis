{
 "cells": [
  {
   "cell_type": "code",
   "execution_count": 1,
   "id": "994d6c6a",
   "metadata": {},
   "outputs": [],
   "source": [
    "import pandas as pd"
   ]
  },
  {
   "cell_type": "code",
   "execution_count": 2,
   "id": "ecb77577",
   "metadata": {},
   "outputs": [
    {
     "name": "stdout",
     "output_type": "stream",
     "text": [
      "                                                 Title    Price  \\\n",
      "0    AeroShelf Charging Station Organizer,Desktop D...   $39.99   \n",
      "1    Intoval 3 in 1 Charger, for Fitbit Sense Fitbi...   $37.99   \n",
      "2    Cell Phone Tripod Stand, PHOSNOVA 55\" Lightwei...   $21.35   \n",
      "3                        Apple Pencil (2nd Generation)      NaN   \n",
      "4    Beats Studio Buds - True Wireless Noise Cancel...      NaN   \n",
      "..                                                 ...      ...   \n",
      "655  Jabra Speak 510 Wireless Bluetooth Speaker for...  $103.00   \n",
      "656  VANMASS [Upgraded] Cell Phone Holder Car [Anti...   $27.99   \n",
      "657  100W USB C Charger, THREEKEY 4-Port GaN Foldab...   $39.99   \n",
      "658  Cidsducac Swivel View Mirror Phone Holder，Rota...   $15.99   \n",
      "659  Bluetooth Headset, Wireless Bluetooth Hands Fr...   $29.99   \n",
      "\n",
      "                 Rating   Shipment Detail  \n",
      "0    4.0 out of 5 stars  Ships to Hungary  \n",
      "1    3.8 out of 5 stars  Ships to Hungary  \n",
      "2    4.6 out of 5 stars  Ships to Hungary  \n",
      "3    4.8 out of 5 stars               NaN  \n",
      "4    4.4 out of 5 stars               NaN  \n",
      "..                  ...               ...  \n",
      "655  4.7 out of 5 stars  Ships to Hungary  \n",
      "656  4.4 out of 5 stars  Ships to Hungary  \n",
      "657  4.7 out of 5 stars  Ships to Hungary  \n",
      "658  3.9 out of 5 stars  Ships to Hungary  \n",
      "659                 NaN  Ships to Hungary  \n",
      "\n",
      "[660 rows x 4 columns]\n"
     ]
    }
   ],
   "source": [
    "df = pd.read_csv ('scraping.csv')\n",
    "print(df)"
   ]
  },
  {
   "cell_type": "code",
   "execution_count": 3,
   "id": "190b736a",
   "metadata": {},
   "outputs": [
    {
     "name": "stdout",
     "output_type": "stream",
     "text": [
      "27\n"
     ]
    }
   ],
   "source": [
    "count_null = df['Price'].isnull().sum()\n",
    "print(count_null)"
   ]
  },
  {
   "cell_type": "code",
   "execution_count": 4,
   "id": "b2b66645",
   "metadata": {},
   "outputs": [
    {
     "name": "stdout",
     "output_type": "stream",
     "text": [
      "                                                 Title    Price  \\\n",
      "0    AeroShelf Charging Station Organizer,Desktop D...   $39.99   \n",
      "1    Intoval 3 in 1 Charger, for Fitbit Sense Fitbi...   $37.99   \n",
      "2    Cell Phone Tripod Stand, PHOSNOVA 55\" Lightwei...   $21.35   \n",
      "3                        Apple Pencil (2nd Generation)        0   \n",
      "4    Beats Studio Buds - True Wireless Noise Cancel...        0   \n",
      "..                                                 ...      ...   \n",
      "655  Jabra Speak 510 Wireless Bluetooth Speaker for...  $103.00   \n",
      "656  VANMASS [Upgraded] Cell Phone Holder Car [Anti...   $27.99   \n",
      "657  100W USB C Charger, THREEKEY 4-Port GaN Foldab...   $39.99   \n",
      "658  Cidsducac Swivel View Mirror Phone Holder，Rota...   $15.99   \n",
      "659  Bluetooth Headset, Wireless Bluetooth Hands Fr...   $29.99   \n",
      "\n",
      "                 Rating   Shipment Detail  \n",
      "0    4.0 out of 5 stars  Ships to Hungary  \n",
      "1    3.8 out of 5 stars  Ships to Hungary  \n",
      "2    4.6 out of 5 stars  Ships to Hungary  \n",
      "3    4.8 out of 5 stars               NaN  \n",
      "4    4.4 out of 5 stars               NaN  \n",
      "..                  ...               ...  \n",
      "655  4.7 out of 5 stars  Ships to Hungary  \n",
      "656  4.4 out of 5 stars  Ships to Hungary  \n",
      "657  4.7 out of 5 stars  Ships to Hungary  \n",
      "658  3.9 out of 5 stars  Ships to Hungary  \n",
      "659                 NaN  Ships to Hungary  \n",
      "\n",
      "[660 rows x 4 columns]\n"
     ]
    }
   ],
   "source": [
    "df['Price'].fillna(0,inplace=True)\n",
    "print(df)"
   ]
  },
  {
   "cell_type": "code",
   "execution_count": 5,
   "id": "1aa1a123",
   "metadata": {},
   "outputs": [
    {
     "name": "stdout",
     "output_type": "stream",
     "text": [
      "53\n",
      "                                                 Title    Price  \\\n",
      "0    AeroShelf Charging Station Organizer,Desktop D...   $39.99   \n",
      "1    Intoval 3 in 1 Charger, for Fitbit Sense Fitbi...   $37.99   \n",
      "2    Cell Phone Tripod Stand, PHOSNOVA 55\" Lightwei...   $21.35   \n",
      "3                        Apple Pencil (2nd Generation)        0   \n",
      "4    Beats Studio Buds - True Wireless Noise Cancel...        0   \n",
      "..                                                 ...      ...   \n",
      "655  Jabra Speak 510 Wireless Bluetooth Speaker for...  $103.00   \n",
      "656  VANMASS [Upgraded] Cell Phone Holder Car [Anti...   $27.99   \n",
      "657  100W USB C Charger, THREEKEY 4-Port GaN Foldab...   $39.99   \n",
      "658  Cidsducac Swivel View Mirror Phone Holder，Rota...   $15.99   \n",
      "659  Bluetooth Headset, Wireless Bluetooth Hands Fr...   $29.99   \n",
      "\n",
      "                 Rating         Shipment Detail  \n",
      "0    4.0 out of 5 stars        Ships to Hungary  \n",
      "1    3.8 out of 5 stars        Ships to Hungary  \n",
      "2    4.6 out of 5 stars        Ships to Hungary  \n",
      "3    4.8 out of 5 stars  No Shipment To Hungary  \n",
      "4    4.4 out of 5 stars  No Shipment To Hungary  \n",
      "..                  ...                     ...  \n",
      "655  4.7 out of 5 stars        Ships to Hungary  \n",
      "656  4.4 out of 5 stars        Ships to Hungary  \n",
      "657  4.7 out of 5 stars        Ships to Hungary  \n",
      "658  3.9 out of 5 stars        Ships to Hungary  \n",
      "659                 NaN        Ships to Hungary  \n",
      "\n",
      "[660 rows x 4 columns]\n"
     ]
    }
   ],
   "source": [
    "print(df['Shipment Detail'].isnull().sum())\n",
    "df['Shipment Detail'].fillna('No Shipment To Hungary',inplace=True)\n",
    "print(df)"
   ]
  },
  {
   "cell_type": "code",
   "execution_count": 6,
   "id": "d3fe703b",
   "metadata": {},
   "outputs": [
    {
     "name": "stdout",
     "output_type": "stream",
     "text": [
      "181\n",
      "                                                 Title   Price  \\\n",
      "33   Bluetooth Headset, Wireless Bluetooth Hands Fr...  $29.99   \n",
      "34   Cell Phone Tripod Stand, PHOSNOVA 55\" Lightwei...  $21.35   \n",
      "35   Intoval 3 in 1 Charger, for Fitbit Sense Fitbi...  $37.99   \n",
      "36                       Apple Pencil (2nd Generation)       0   \n",
      "37   Beats Studio Buds - True Wireless Noise Cancel...       0   \n",
      "..                                                 ...     ...   \n",
      "642  Intoval 3 in 1 Charger, for Fitbit Sense Fitbi...  $37.99   \n",
      "643  256G 2 in 1 USB3.1 OTG Type-C USB Drive, USB3....  $33.99   \n",
      "644  Magnetic Phone Tripod Mount, Phone Camera Grip...  $31.99   \n",
      "657  100W USB C Charger, THREEKEY 4-Port GaN Foldab...  $39.99   \n",
      "659  Bluetooth Headset, Wireless Bluetooth Hands Fr...  $29.99   \n",
      "\n",
      "                 Rating         Shipment Detail  \n",
      "33                  NaN        Ships to Hungary  \n",
      "34   4.6 out of 5 stars        Ships to Hungary  \n",
      "35   3.8 out of 5 stars        Ships to Hungary  \n",
      "36   4.8 out of 5 stars  No Shipment To Hungary  \n",
      "37   4.4 out of 5 stars  No Shipment To Hungary  \n",
      "..                  ...                     ...  \n",
      "642  3.8 out of 5 stars        Ships to Hungary  \n",
      "643  5.0 out of 5 stars        Ships to Hungary  \n",
      "644                 NaN        Ships to Hungary  \n",
      "657  4.7 out of 5 stars        Ships to Hungary  \n",
      "659                 NaN        Ships to Hungary  \n",
      "\n",
      "[181 rows x 4 columns]\n"
     ]
    }
   ],
   "source": [
    "print(df.duplicated().sum())\n",
    "duplicate_rows = df[df.duplicated()]\n",
    "print(duplicate_rows)"
   ]
  },
  {
   "cell_type": "code",
   "execution_count": 7,
   "id": "c1883d27",
   "metadata": {},
   "outputs": [
    {
     "name": "stdout",
     "output_type": "stream",
     "text": [
      "                                                 Title    Price  \\\n",
      "0    AeroShelf Charging Station Organizer,Desktop D...   $39.99   \n",
      "1    Intoval 3 in 1 Charger, for Fitbit Sense Fitbi...   $37.99   \n",
      "2    Cell Phone Tripod Stand, PHOSNOVA 55\" Lightwei...   $21.35   \n",
      "3                        Apple Pencil (2nd Generation)        0   \n",
      "4    Beats Studio Buds - True Wireless Noise Cancel...        0   \n",
      "..                                                 ...      ...   \n",
      "653  4 Pack [Apple MFi Certified] Apple Charger Cab...    $5.99   \n",
      "654  RJR Updated 3 in 1 Charging Station for Apple ...   $36.99   \n",
      "655  Jabra Speak 510 Wireless Bluetooth Speaker for...  $103.00   \n",
      "656  VANMASS [Upgraded] Cell Phone Holder Car [Anti...   $27.99   \n",
      "658  Cidsducac Swivel View Mirror Phone Holder，Rota...   $15.99   \n",
      "\n",
      "                 Rating         Shipment Detail  \n",
      "0    4.0 out of 5 stars        Ships to Hungary  \n",
      "1    3.8 out of 5 stars        Ships to Hungary  \n",
      "2    4.6 out of 5 stars        Ships to Hungary  \n",
      "3    4.8 out of 5 stars  No Shipment To Hungary  \n",
      "4    4.4 out of 5 stars  No Shipment To Hungary  \n",
      "..                  ...                     ...  \n",
      "653  4.5 out of 5 stars  No Shipment To Hungary  \n",
      "654  4.9 out of 5 stars        Ships to Hungary  \n",
      "655  4.7 out of 5 stars        Ships to Hungary  \n",
      "656  4.4 out of 5 stars        Ships to Hungary  \n",
      "658  3.9 out of 5 stars        Ships to Hungary  \n",
      "\n",
      "[479 rows x 4 columns]\n"
     ]
    }
   ],
   "source": [
    "df.drop_duplicates(inplace=True)\n",
    "print(df)"
   ]
  },
  {
   "cell_type": "code",
   "execution_count": 8,
   "id": "bc3f3077",
   "metadata": {},
   "outputs": [
    {
     "name": "stdout",
     "output_type": "stream",
     "text": [
      "Title              object\n",
      "Price              object\n",
      "Rating             string\n",
      "Shipment Detail    object\n",
      "dtype: object\n"
     ]
    }
   ],
   "source": [
    "df[\"Rating\"] = df['Rating'].astype('string')\n",
    "print(df.dtypes)"
   ]
  },
  {
   "cell_type": "code",
   "execution_count": 9,
   "id": "5236cf27",
   "metadata": {},
   "outputs": [
    {
     "name": "stdout",
     "output_type": "stream",
     "text": [
      "7\n",
      "0      4.0 out of 5 stars\n",
      "1      3.8 out of 5 stars\n",
      "2      4.6 out of 5 stars\n",
      "3      4.8 out of 5 stars\n",
      "4      4.4 out of 5 stars\n",
      "              ...        \n",
      "653    4.5 out of 5 stars\n",
      "654    4.9 out of 5 stars\n",
      "655    4.7 out of 5 stars\n",
      "656    4.4 out of 5 stars\n",
      "658    3.9 out of 5 stars\n",
      "Name: Rating, Length: 479, dtype: string\n"
     ]
    }
   ],
   "source": [
    "count_null = df['Rating'].isnull().sum()\n",
    "print(count_null)\n",
    "df['Rating'].fillna('0',inplace=True)\n",
    "print(df['Rating'])"
   ]
  },
  {
   "cell_type": "code",
   "execution_count": 10,
   "id": "51d83ce3",
   "metadata": {},
   "outputs": [
    {
     "name": "stdout",
     "output_type": "stream",
     "text": [
      "0      4.0\n",
      "1      3.8\n",
      "2      4.6\n",
      "3      4.8\n",
      "4      4.4\n",
      "      ... \n",
      "653    4.5\n",
      "654    4.9\n",
      "655    4.7\n",
      "656    4.4\n",
      "658    3.9\n",
      "Name: Rating, Length: 479, dtype: object\n"
     ]
    }
   ],
   "source": [
    "df['Rating'] = [value[0:3] for value in df['Rating']]\n",
    "print(df['Rating'])"
   ]
  },
  {
   "cell_type": "code",
   "execution_count": 11,
   "id": "bc4d6693",
   "metadata": {},
   "outputs": [
    {
     "name": "stdout",
     "output_type": "stream",
     "text": [
      "Title               object\n",
      "Price               object\n",
      "Rating             float64\n",
      "Shipment Detail     object\n",
      "dtype: object\n"
     ]
    }
   ],
   "source": [
    "df[\"Rating\"] = df['Rating'].astype('float')\n",
    "print(df.dtypes)"
   ]
  },
  {
   "cell_type": "code",
   "execution_count": 12,
   "id": "c53c39a5",
   "metadata": {},
   "outputs": [
    {
     "name": "stdout",
     "output_type": "stream",
     "text": [
      "                                                 Title    Price  Rating  \\\n",
      "0    AeroShelf Charging Station Organizer,Desktop D...   $39.99     4.0   \n",
      "1    Intoval 3 in 1 Charger, for Fitbit Sense Fitbi...   $37.99     3.8   \n",
      "2    Cell Phone Tripod Stand, PHOSNOVA 55\" Lightwei...   $21.35     4.6   \n",
      "3                        Apple Pencil (2nd Generation)        0     4.8   \n",
      "4    Beats Studio Buds - True Wireless Noise Cancel...        0     4.4   \n",
      "..                                                 ...      ...     ...   \n",
      "653  4 Pack [Apple MFi Certified] Apple Charger Cab...    $5.99     4.5   \n",
      "654  RJR Updated 3 in 1 Charging Station for Apple ...   $36.99     4.9   \n",
      "655  Jabra Speak 510 Wireless Bluetooth Speaker for...  $103.00     4.7   \n",
      "656  VANMASS [Upgraded] Cell Phone Holder Car [Anti...   $27.99     4.4   \n",
      "658  Cidsducac Swivel View Mirror Phone Holder，Rota...   $15.99     3.9   \n",
      "\n",
      "            Shipment Detail      Recommendation  \n",
      "0          Ships to Hungary  Highly Recommended  \n",
      "1          Ships to Hungary     Not Recommended  \n",
      "2          Ships to Hungary  Highly Recommended  \n",
      "3    No Shipment To Hungary  Highly Recommended  \n",
      "4    No Shipment To Hungary  Highly Recommended  \n",
      "..                      ...                 ...  \n",
      "653  No Shipment To Hungary  Highly Recommended  \n",
      "654        Ships to Hungary  Highly Recommended  \n",
      "655        Ships to Hungary  Highly Recommended  \n",
      "656        Ships to Hungary  Highly Recommended  \n",
      "658        Ships to Hungary     Not Recommended  \n",
      "\n",
      "[479 rows x 5 columns]\n"
     ]
    }
   ],
   "source": [
    "rec=[]\n",
    "for row in df['Rating']:\n",
    "    if row >=4.0:\n",
    "        rec.append('Highly Recommended')\n",
    "    else:\n",
    "        rec.append('Not Recommended')\n",
    "df['Recommendation']=rec\n",
    "print(df)"
   ]
  },
  {
   "cell_type": "code",
   "execution_count": 13,
   "id": "9ce39199",
   "metadata": {},
   "outputs": [],
   "source": [
    "if __name__ == \"__main__\":\n",
    "    df.to_csv('Dataset.csv',index=False,encoding='utf-8')"
   ]
  }
 ],
 "metadata": {
  "kernelspec": {
   "display_name": "Python 3 (ipykernel)",
   "language": "python",
   "name": "python3"
  },
  "language_info": {
   "codemirror_mode": {
    "name": "ipython",
    "version": 3
   },
   "file_extension": ".py",
   "mimetype": "text/x-python",
   "name": "python",
   "nbconvert_exporter": "python",
   "pygments_lexer": "ipython3",
   "version": "3.10.6"
  }
 },
 "nbformat": 4,
 "nbformat_minor": 5
}
