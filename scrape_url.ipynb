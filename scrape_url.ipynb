{
 "cells": [
  {
   "cell_type": "code",
   "execution_count": null,
   "id": "30acd15f",
   "metadata": {},
   "outputs": [],
   "source": [
    "from selenium import webdriver\n",
    "from selenium.webdriver.chrome.service import Service\n",
    "from webdriver_manager.chrome import ChromeDriverManager\n",
    "from selenium.webdriver.common.by import By\n",
    "import bs4\n",
    "import pandas as pd"
   ]
  },
  {
   "cell_type": "markdown",
   "id": "5fb47064",
   "metadata": {},
   "source": [
    "Scrape_url function:\n",
    "Accepts two parameters; webpage soruce(url_string) and maximum page that will be scraped (page_size).\n",
    "Returns the lists of scraped data"
   ]
  },
  {
   "cell_type": "code",
   "execution_count": null,
   "id": "1f7e27d0",
   "metadata": {},
   "outputs": [],
   "source": [
    "def scrape_url(url_string,page_size):\n",
    "    titles=[]\n",
    "    prices=[]\n",
    "    ratings=[]\n",
    "    shipment=[]\n",
    "    for page in range(page_size):\n",
    "        url = url_string + str(page)\n",
    "        driver = webdriver.Chrome(\"/usr/lib/chromium-browser/chromedriver\")\n",
    "        driver.get(url)\n",
    "        content = driver.page_source\n",
    "        soup = bs4.BeautifulSoup(content)\n",
    "    \n",
    "        for k in soup.find_all('div', attrs={'class':'a-section a-spacing-base'}):\n",
    "            title=k.find('span', attrs={'class':'a-size-base-plus a-color-base a-text-normal'})\n",
    "            price=k.find('span', attrs={'class':'a-offscreen'})\n",
    "            rating=k.find('span', attrs={'class':'a-icon-alt'})\n",
    "            ship=k.find('span', attrs={'class':'a-size-small a-color-base'})\n",
    "            if title is None:\n",
    "                titles.append(\"\")\n",
    "            else:\n",
    "                titles.append(title.text)\n",
    "            if price is None:\n",
    "                prices.append(\"\")\n",
    "            else:\n",
    "                prices.append(price.text)\n",
    "            if rating is None:\n",
    "                ratings.append(\"\")\n",
    "            else:\n",
    "                ratings.append(rating.text)\n",
    "            if ship is None:\n",
    "                shipment.append(\"\")\n",
    "            else:\n",
    "                shipment.append(ship.text)\n",
    "            \n",
    "            \n",
    "    return list(zip(titles,prices,ratings,shipment))"
   ]
  },
  {
   "cell_type": "markdown",
   "id": "3458248b",
   "metadata": {},
   "source": [
    "Driver program"
   ]
  },
  {
   "cell_type": "code",
   "execution_count": null,
   "id": "a9623f6c",
   "metadata": {},
   "outputs": [],
   "source": [
    "if __name__ == \"__main__\":\n",
    "    url_string=\"https://www.amazon.com/s?bbn=16225009011&rh=n%3A2811119011&page=\"\n",
    "    datas=scrape_url(url_string,1)\n",
    "    df = pd.DataFrame(datas,columns=('Title','Price','Rating','Shipment Detail'))",
    "    df.to_csv('scraping.csv',index=False,encoding='utf-8')"
   ]
  }
 ],
 "metadata": {
  "kernelspec": {
   "display_name": "Python 3 (ipykernel)",
   "language": "python",
   "name": "python3"
  },
  "language_info": {
   "codemirror_mode": {
    "name": "ipython",
    "version": 3
   },
   "file_extension": ".py",
   "mimetype": "text/x-python",
   "name": "python",
   "nbconvert_exporter": "python",
   "pygments_lexer": "ipython3",
   "version": "3.10.6"
  }
 },
 "nbformat": 4,
 "nbformat_minor": 5
}
