{
 "cells": [
  {
   "cell_type": "code",
   "execution_count": 2,
   "id": "1c0012e4",
   "metadata": {},
   "outputs": [],
   "source": [
    "from selenium import webdriver\n",
    "from selenium.webdriver.chrome.service import Service\n",
    "from webdriver_manager.chrome import ChromeDriverManager\n",
    "from selenium.webdriver.common.by import By\n",
    "import bs4\n",
    "import pandas as pd"
   ]
  },
  {
   "cell_type": "code",
   "execution_count": 3,
   "id": "cb4f6033",
   "metadata": {},
   "outputs": [
    {
     "name": "stderr",
     "output_type": "stream",
     "text": [
      "/tmp/ipykernel_93199/2781520430.py:8: DeprecationWarning: executable_path has been deprecated, please pass in a Service object\n",
      "  driver = webdriver.Chrome(\"/usr/lib/chromium-browser/chromedriver\")\n"
     ]
    }
   ],
   "source": [
    "def scrape_url(url_string,max):\n",
    "    titles=[]\n",
    "    prices=[]\n",
    "    ratings=[]\n",
    "    shipment=[]\n",
    "    for page in range(max):\n",
    "        url = url_string + str(page)\n",
    "        driver = webdriver.Chrome(\"/usr/lib/chromium-browser/chromedriver\")\n",
    "        driver.get(url)\n",
    "        content = driver.page_source\n",
    "        soup = bs4.BeautifulSoup(content)\n",
    "    \n",
    "        for k in soup.find_all('div', attrs={'class':'a-section a-spacing-base'}):\n",
    "            title=k.find('span', attrs={'class':'a-size-base-plus a-color-base a-text-normal'})\n",
    "            price=k.find('span', attrs={'class':'a-offscreen'})\n",
    "            rating=k.find('span', attrs={'class':'a-icon-alt'})\n",
    "            ship=k.find('span', attrs={'class':'a-size-small a-color-base'})\n",
    "            if title is None:\n",
    "                titles.append(\"\")\n",
    "            else:\n",
    "                titles.append(title.text)\n",
    "            if price is None:\n",
    "                prices.append(\"\")\n",
    "            else:\n",
    "                prices.append(price.text)\n",
    "            if rating is None:\n",
    "                ratings.append(\"\")\n",
    "            else:\n",
    "                ratings.append(rating.text)\n",
    "            if ship is None:\n",
    "                shipment.append(\"\")\n",
    "            else:\n",
    "                shipment.append(ship.text)\n",
    "            \n",
    "            \n",
    "    return list(zip(titles,prices,ratings,shipment))\n",
    "        \n",
    "if __name__ == \"__main__\":\n",
    "    url_string=\"https://www.amazon.com/s?bbn=16225009011&rh=n%3A2811119011&page=\"\n",
    "    datas=scrape_url(url_string,1)\n",
    "    df = pd.DataFrame(datas,columns=('Title','Price','Rating','Shipment Detail'))"
   ]
  },
  {
   "cell_type": "code",
   "execution_count": null,
   "id": "ef7e2560",
   "metadata": {},
   "outputs": [],
   "source": []
  }
 ],
 "metadata": {
  "kernelspec": {
   "display_name": "Python 3 (ipykernel)",
   "language": "python",
   "name": "python3"
  },
  "language_info": {
   "codemirror_mode": {
    "name": "ipython",
    "version": 3
   },
   "file_extension": ".py",
   "mimetype": "text/x-python",
   "name": "python",
   "nbconvert_exporter": "python",
   "pygments_lexer": "ipython3",
   "version": "3.10.6"
  }
 },
 "nbformat": 4,
 "nbformat_minor": 5
}
